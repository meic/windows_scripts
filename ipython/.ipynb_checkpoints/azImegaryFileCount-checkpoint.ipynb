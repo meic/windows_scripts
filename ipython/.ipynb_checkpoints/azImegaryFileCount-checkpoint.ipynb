{
 "cells": [
  {
   "cell_type": "code",
   "execution_count": 6,
   "metadata": {
    "collapsed": false
   },
   "outputs": [],
   "source": [
    "import os\n",
    "\n",
    "ROOT_PATH = \"Y:\\Image Auditing Solution - CR_AZ\\Content Centre Engagement\\Market Derived Files\"\n",
    "\n",
    "brandMapping = {\"Brilinta\": { \"brands\": [\"Brilinta\"] },\n",
    "\"Brilinta;ZS-9\": { \"brands\": [\"Brilinta\"] },\n",
    "\"Bydureon\": { \"brands\": [\"Bydureon\"] },\n",
    "\"Bydureon-DUAKLIR\": { \"brands\": [\"Bydureon\"] },\n",
    "\"Bydureon-Unbranded\": { \"brands\": [\"Bydureon\"] },\n",
    "\"Byetta\": { \"brands\": [\"Byetta\"] },\n",
    "\"Dapagliflozin\": { \"brands\": [\"Forziga-Xigduo\"] },\n",
    "\"Forxiga\": { \"brands\": [\"Forziga-Xigduo\"] },\n",
    "\"Forxiga-Xigduo\": { \"brands\": [\"Forziga-Xigduo\"] },\n",
    "\"IRESSA\": { \"brands\": [\"Iressa\"] },\n",
    "\"Komboglyze\": { \"brands\": [\"Onglyza\"] },\n",
    "\"Komboglyze-Onglyza\": { \"brands\": [\"Onglyza\"] },\n",
    "\"Lynparza\": { \"brands\": [\"Lynparza\"] },\n",
    "\"Olaparib\": { \"brands\": [\"Lynparza\"] },\n",
    "\"Onglyza\": { \"brands\": [\"Onglyza\"] },\n",
    "\"Symbicort\": { \"brands\": [\"Symbicort\"] },\n",
    "\"Symbicort-DUAKLIR\": { \"brands\": [\"Symbicort\"] },\n",
    "\"Symbicort-DUAKLIR-Daliresp\": { \"brands\": [\"Symbicort\"] },\n",
    "\"Symbicort-EKLIRA\": { \"brands\": [\"Symbicort\"] },\n",
    "\"Symbicort-EKLIRA-DUAKLIR\": { \"brands\": [\"Symbicort\"] },\n",
    "\"Symbicort-EKLIRA-DUAKLIR-Daliresp\": { \"brands\": [\"Symbicort\"] },\n",
    "\"Symbicort;DUAKLIR\": { \"brands\": [\"Symbicort\"] },\n",
    "\"Tagrisso\": { \"brands\": [\"Tagrisso\"] },\n",
    "\"Xigduo\": { \"brands\": [\"Forziga-Xigduo\"] },\n",
    "\"Olaparib-Cediranib\": { \"brands\": [\"Lynparza\"] },\n",
    "\"Tagrisso-Durvalumab\": { \"brands\": [\"Tagrisso\"] },\n",
    "\"Exenatide Injection\": { \"brands\": [\"Bydureon\"] },}"
   ]
  },
  {
   "cell_type": "code",
   "execution_count": 9,
   "metadata": {
    "collapsed": false
   },
   "outputs": [
    {
     "name": "stdout",
     "output_type": "stream",
     "text": [
      "{'Lynparza': 0, 'Brilinta': 0, 'Onglyza': 0, 'Forxiga-Xigduo': 0, 'Byetta': 0, 'Komboglyze': 0, 'IRESSA': 0, 'Symbicort-DUAKLIR': 0, 'Tagrisso': 0, 'Dapagliflozin': 0, 'Brilinta;ZS-9': 0, 'Xigduo': 0, 'Komboglyze-Onglyza': 0, 'Symbicort': 0, 'Bydureon': 0, 'Forxiga': 0, 'Tagrisso-Durvalumab': 0}\n"
     ]
    }
   ],
   "source": [
    "brands = {}\n",
    "for d in brandMapping.keys():\n",
    "    brand = brandMapping[d][\"brands\"][0]\n",
    "    if brand not in brands:\n",
    "        brands[d]=0\n",
    "print( brands )"
   ]
  },
  {
   "cell_type": "code",
   "execution_count": 3,
   "metadata": {
    "collapsed": true
   },
   "outputs": [],
   "source": [
    "markets = os.listdir(ROOT_PATH)"
   ]
  },
  {
   "cell_type": "code",
   "execution_count": 4,
   "metadata": {
    "collapsed": false
   },
   "outputs": [
    {
     "name": "stdout",
     "output_type": "stream",
     "text": [
      "['Belgium', 'Brazil', 'Bulgeria', 'Finland', 'France', 'Germany', 'Greece', 'Malaysia', 'Nordic – Baltic Regional', 'Norway', 'Poland', 'Portugal', 'Romania', 'South Africa', 'Sweden', 'Sweden (1)', 'U.S']\n"
     ]
    }
   ],
   "source": [
    "print(markets)"
   ]
  },
  {
   "cell_type": "code",
   "execution_count": 15,
   "metadata": {
    "collapsed": false
   },
   "outputs": [
    {
     "name": "stdout",
     "output_type": "stream",
     "text": [
      "Y:\\Image Auditing Solution - CR_AZ\\Content Centre Engagement\\Market Derived Files\\Iressa\\IRESSA\n"
     ]
    },
    {
     "ename": "NameError",
     "evalue": "name 'lower' is not defined",
     "output_type": "error",
     "traceback": [
      "\u001b[0;31m---------------------------------------------------------------------------\u001b[0m",
      "\u001b[0;31mNameError\u001b[0m                                 Traceback (most recent call last)",
      "\u001b[0;32m<ipython-input-15-501e5eef6c9a>\u001b[0m in \u001b[0;36m<module>\u001b[0;34m()\u001b[0m\n\u001b[1;32m     10\u001b[0m \u001b[1;33m\u001b[0m\u001b[0m\n\u001b[1;32m     11\u001b[0m             \u001b[1;32mfor\u001b[0m \u001b[0mfName\u001b[0m \u001b[1;32min\u001b[0m \u001b[0mfiles\u001b[0m\u001b[1;33m:\u001b[0m\u001b[1;33m\u001b[0m\u001b[0m\n\u001b[0;32m---> 12\u001b[0;31m                 \u001b[1;32mif\u001b[0m \u001b[1;34m\"pdf\"\u001b[0m \u001b[1;32min\u001b[0m \u001b[0mlower\u001b[0m\u001b[1;33m(\u001b[0m\u001b[0mfName\u001b[0m\u001b[1;33m)\u001b[0m\u001b[1;33m:\u001b[0m\u001b[1;33m\u001b[0m\u001b[0m\n\u001b[0m\u001b[1;32m     13\u001b[0m                     \u001b[0mbrands\u001b[0m\u001b[1;33m[\u001b[0m\u001b[0mbrand\u001b[0m\u001b[1;33m]\u001b[0m\u001b[1;33m+=\u001b[0m\u001b[1;36m1\u001b[0m\u001b[1;33m\u001b[0m\u001b[0m\n\u001b[1;32m     14\u001b[0m \u001b[1;33m\u001b[0m\u001b[0m\n",
      "\u001b[0;31mNameError\u001b[0m: name 'lower' is not defined"
     ]
    }
   ],
   "source": [
    "for b in brands:\n",
    "    brands[b]=0\n",
    "\n",
    "for m in markets:\n",
    "    for d in brandMapping.keys():\n",
    "        brand = brandMapping[d][\"brands\"][0]\n",
    "        print(os.path.join(ROOT_PATH,brand,d))\n",
    "        if os.path.exists(os.path.join(ROOT_PATH,m,d)):\n",
    "            files = os.listdir(os.path.join(ROOT_PATH,m,d))\n",
    "            \n",
    "            for fName in files:\n",
    "                if \"pdf\" in fName.lower():\n",
    "                    brands[brand]+=1\n",
    "                    \n",
    "print(brands)\n",
    "                "
   ]
  },
  {
   "cell_type": "code",
   "execution_count": null,
   "metadata": {
    "collapsed": true
   },
   "outputs": [],
   "source": []
  }
 ],
 "metadata": {
  "anaconda-cloud": {},
  "kernelspec": {
   "display_name": "Python [conda root]",
   "language": "python",
   "name": "conda-root-py"
  },
  "language_info": {
   "codemirror_mode": {
    "name": "ipython",
    "version": 3
   },
   "file_extension": ".py",
   "mimetype": "text/x-python",
   "name": "python",
   "nbconvert_exporter": "python",
   "pygments_lexer": "ipython3",
   "version": "3.5.2"
  }
 },
 "nbformat": 4,
 "nbformat_minor": 1
}
